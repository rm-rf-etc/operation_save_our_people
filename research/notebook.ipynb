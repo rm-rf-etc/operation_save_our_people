{
 "cells": [
  {
   "cell_type": "markdown",
   "id": "94b1ad8e",
   "metadata": {},
   "source": [
    "None of this code has been tested. I was at work and I just generated this using ChatGPT\n",
    "and then I put it here for someone (maybe me) to pick up later. See README.md in *this*\n",
    "directory for the ChatGPT o3 response."
   ]
  },
  {
   "cell_type": "code",
   "execution_count": null,
   "id": "7d7e1f97",
   "metadata": {},
   "outputs": [],
   "source": [
    "import pandas as pd, requests, bs4, sqlalchemy as sa\n",
    "url = \"https://www.forbes.com/forbes-400/\"\n",
    "soup = bs4.BeautifulSoup(requests.get(url).text, \"html.parser\")\n",
    "rows = [{...parse each <tr>…} for tr in soup.select(\"table tbody tr\")]\n",
    "df = pd.DataFrame(rows)\n",
    "engine = sa.create_engine(\"postgresql://…\")\n",
    "df.to_sql(\"billionaires_us\", engine, if_exists=\"replace\", index=False)"
   ]
  }
 ],
 "metadata": {
  "kernelspec": {
   "display_name": "Python 3",
   "language": "python",
   "name": "python3"
  },
  "language_info": {
   "name": "python",
   "version": "3.12.10"
  }
 },
 "nbformat": 4,
 "nbformat_minor": 5
}
